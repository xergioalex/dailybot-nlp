{
 "cells": [
  {
   "cell_type": "code",
   "execution_count": 32,
   "metadata": {},
   "outputs": [],
   "source": [
    "import json"
   ]
  },
  {
   "cell_type": "markdown",
   "metadata": {},
   "source": [
    "# Creating the JSON files for English and Spanish intents"
   ]
  },
  {
   "cell_type": "code",
   "execution_count": 33,
   "metadata": {},
   "outputs": [],
   "source": [
    "data_en = {}\n",
    "data_es = {}"
   ]
  },
  {
   "cell_type": "code",
   "execution_count": 34,
   "metadata": {},
   "outputs": [],
   "source": [
    "data_en['interactionModel']={\"languageModel\":{}}\n",
    "data_en['interactionModel']['languageModel'] = {\"intent\": []}\n",
    "\n",
    "data_es['interactionModel']={\"languageModel\":{}}\n",
    "data_es['interactionModel']['languageModel'] = {\"intent\": []}\n",
    " "
   ]
  },
  {
   "cell_type": "markdown",
   "metadata": {},
   "source": [
    "### Hello Intent"
   ]
  },
  {
   "cell_type": "code",
   "execution_count": 35,
   "metadata": {},
   "outputs": [],
   "source": [
    "data_en['interactionModel']['languageModel']['intent'].append({\n",
    "    \"name\":\"hello\",\n",
    "    \"samples\": ['Hi', \n",
    "                'Hello', \n",
    "                'hey',]\n",
    "})\n",
    "\n",
    "data_es['interactionModel']['languageModel']['intent'].append({\n",
    "    \"name\":\"hello\",\n",
    "    \"samples\": ['hola', \n",
    "                'ey', \n",
    "                'oi', \n",
    "                'ola', \n",
    "                'saludos']\n",
    "})"
   ]
  },
  {
   "cell_type": "markdown",
   "metadata": {},
   "source": [
    "### Feedback Intent"
   ]
  },
  {
   "cell_type": "code",
   "execution_count": 36,
   "metadata": {},
   "outputs": [],
   "source": [
    "data_en['interactionModel']['languageModel']['intent'].append(\n",
    "    {\"name\": \"feedback\",\n",
    "     \"samples\": ['feedback', \n",
    "                 'I want some feedback', \n",
    "                 'Give me feedback',\n",
    "                'I want feedback']\n",
    "    })\n",
    "\n",
    "data_es['interactionModel']['languageModel']['intent'].append(\n",
    "    {\"name\": \"feedback\",\n",
    "     \"samples\": ['realimentación', \n",
    "                 'quiero darte retroalimentación',\n",
    "                'retroalimentación', \n",
    "                 'quiero dejarte un mensaje']\n",
    "    })\n",
    "\n"
   ]
  },
  {
   "cell_type": "markdown",
   "metadata": {},
   "source": [
    "### Cancel Intent"
   ]
  },
  {
   "cell_type": "code",
   "execution_count": 37,
   "metadata": {},
   "outputs": [],
   "source": [
    "data_en['interactionModel']['languageModel']['intent'].append(\n",
    "    {\"name\": \"cancel\",\n",
    "     \"samples\": ['cancel',\n",
    "                 'cancel it']\n",
    "    })\n",
    "\n",
    "data_es['interactionModel']['languageModel']['intent'].append(\n",
    "    {\"name\": \"cancel\",\n",
    "     \"samples\": ['cancelar']\n",
    "    })"
   ]
  },
  {
   "cell_type": "markdown",
   "metadata": {},
   "source": [
    "### Chicken Intent"
   ]
  },
  {
   "cell_type": "code",
   "execution_count": 38,
   "metadata": {},
   "outputs": [],
   "source": [
    "data_en['interactionModel']['languageModel']['intent'].append(\n",
    "    {\"name\": \"chicken\",\n",
    "     \"samples\": ['arthur', \n",
    "                 'chicken',  \n",
    "                 'I want arthur', \n",
    "                 'I want the chicken', \n",
    "                 'Bring the chicken', \n",
    "                 'about Arthur']\n",
    "    })\n",
    "\n",
    "data_es['interactionModel']['languageModel']['intent'].append(\n",
    "    {\"name\": \"chicken\",\n",
    "     \"samples\": ['galinha', \n",
    "                 'pollo']\n",
    "    })"
   ]
  },
  {
   "cell_type": "markdown",
   "metadata": {},
   "source": [
    "### Dashboard Intent"
   ]
  },
  {
   "cell_type": "code",
   "execution_count": 39,
   "metadata": {},
   "outputs": [],
   "source": [
    "data_en['interactionModel']['languageModel']['intent'].append(\n",
    "    {\"name\": \"dashboard\",\n",
    "     \"samples\": ['dashboard', \n",
    "                 'Show me the dashboard', \n",
    "                 'Bring the dashboard', \n",
    "                 'I want the dashboard', \n",
    "                 'about dashboard']\n",
    "    })\n",
    "\n",
    "data_es['interactionModel']['languageModel']['intent'].append(\n",
    "    {\"name\": \"dashboard\",\n",
    "     \"samples\": ['tablero',\n",
    "                 'tablero de administración',\n",
    "                'panel de administración', \n",
    "                 'llévame al panel de administración']\n",
    "    })"
   ]
  },
  {
   "cell_type": "markdown",
   "metadata": {},
   "source": [
    "### Datetime Intent"
   ]
  },
  {
   "cell_type": "code",
   "execution_count": 40,
   "metadata": {},
   "outputs": [],
   "source": [
    "# difficult without user information\n",
    "data_en['interactionModel']['languageModel']['intent'].append(\n",
    "    {\"name\": \"datetime\",\n",
    "     \"samples\": ['date time', \n",
    "                 'time', \n",
    "                 'tell me the time', \n",
    "                 'show the time',\n",
    "                 'show the datetime']\n",
    "    })\n",
    "\n",
    "# difficult without user information\n",
    "data_es['interactionModel']['languageModel']['intent'].append(\n",
    "    {\"name\": \"datetime\",\n",
    "     \"samples\": ['hora', \n",
    "                 'dime la hora']\n",
    "    })"
   ]
  },
  {
   "cell_type": "markdown",
   "metadata": {},
   "source": [
    "### Disable Intent"
   ]
  },
  {
   "cell_type": "code",
   "execution_count": 41,
   "metadata": {},
   "outputs": [],
   "source": [
    "# difficult without user information\n",
    "data_en['interactionModel']['languageModel']['intent'].append(\n",
    "    {\"name\": \"disable\",\n",
    "     \"samples\": ['disable', \n",
    "                 'disable it']\n",
    "    })\n",
    "\n",
    "# difficult without user information\n",
    "data_es['interactionModel']['languageModel']['intent'].append(\n",
    "    {\"name\": \"disable\",\n",
    "     \"samples\": ['deshabilitar']\n",
    "    })"
   ]
  },
  {
   "cell_type": "markdown",
   "metadata": {},
   "source": [
    "### Enable Intent"
   ]
  },
  {
   "cell_type": "code",
   "execution_count": 42,
   "metadata": {},
   "outputs": [],
   "source": [
    "# difficult without user information\n",
    "data_en['interactionModel']['languageModel']['intent'].append(\n",
    "    {\"name\": \"enable\", \n",
    "     \"samples\": [\"enable\", \n",
    "                 \"enable it\", \n",
    "                 \"enable the message\"]\n",
    "    })\n",
    "\n",
    "# difficult without user information\n",
    "data_es['interactionModel']['languageModel']['intent'].append(\n",
    "    {\"name\": \"enable\", \n",
    "     \"samples\": [\"habilitar\"]\n",
    "    })"
   ]
  },
  {
   "cell_type": "markdown",
   "metadata": {},
   "source": [
    "### Help Intent"
   ]
  },
  {
   "cell_type": "code",
   "execution_count": 43,
   "metadata": {},
   "outputs": [],
   "source": [
    "# difficult without user information\n",
    "data_en['interactionModel']['languageModel']['intent'].append(\n",
    "    {\"name\": \"help\",\n",
    "     \"samples\": ['help', \n",
    "                 'show help', \n",
    "                 'give help', \n",
    "                 'I want help']\n",
    "    })\n",
    "\n",
    "# difficult without user information\n",
    "data_es['interactionModel']['languageModel']['intent'].append(\n",
    "    {\"name\": \"help\",\n",
    "     \"samples\": ['ayuda', \n",
    "                 'muéstrame la ayuda']\n",
    "    })"
   ]
  },
  {
   "cell_type": "markdown",
   "metadata": {},
   "source": [
    "### Extras Intent"
   ]
  },
  {
   "cell_type": "code",
   "execution_count": 44,
   "metadata": {},
   "outputs": [],
   "source": [
    "# difficult without user information\n",
    "data_en['interactionModel']['languageModel']['intent'].append(\n",
    "    {\"name\": \"extras\",\n",
    "     \"samples\": ['extras', \n",
    "                 'show extras', \n",
    "                 'I want extras']\n",
    "    })\n",
    "\n",
    "# difficult without user information\n",
    "data_es['interactionModel']['languageModel']['intent'].append(\n",
    "    {\"name\": \"extras\",\n",
    "     \"samples\": ['extras']\n",
    "    })"
   ]
  },
  {
   "cell_type": "markdown",
   "metadata": {},
   "source": [
    "### News Intent"
   ]
  },
  {
   "cell_type": "code",
   "execution_count": 45,
   "metadata": {},
   "outputs": [],
   "source": [
    "data_en['interactionModel']['languageModel']['intent'].append(\n",
    "    {\"name\": \"news\",\n",
    "     \"samples\": ['news', \n",
    "                 'show the news', \n",
    "                 'I want the news']\n",
    "    })\n",
    "\n",
    "data_es['interactionModel']['languageModel']['intent'].append(\n",
    "    {\"name\": \"news\",\n",
    "     \"samples\": ['noticias']\n",
    "    })"
   ]
  },
  {
   "cell_type": "markdown",
   "metadata": {},
   "source": [
    "### Settings Intent"
   ]
  },
  {
   "cell_type": "code",
   "execution_count": 46,
   "metadata": {},
   "outputs": [],
   "source": [
    "data_en['interactionModel']['languageModel']['intent'].append(\n",
    "    {\"name\": \"settings\",\n",
    "     \"samples\": ['settings', \n",
    "                 'show settings', \n",
    "                 'give me settings',\n",
    "                 'I want settings']\n",
    "    })\n",
    "\n",
    "data_es['interactionModel']['languageModel']['intent'].append(\n",
    "    {\"name\": \"settings\",\n",
    "     \"samples\": ['configuraciones', \n",
    "                 'muéstrame las configuraciones', \n",
    "                 'configuración']\n",
    "    })"
   ]
  },
  {
   "cell_type": "markdown",
   "metadata": {},
   "source": [
    "### TextFormat Intent"
   ]
  },
  {
   "cell_type": "code",
   "execution_count": 47,
   "metadata": {},
   "outputs": [],
   "source": [
    "data_en['interactionModel']['languageModel']['intent'].append(\n",
    "    {\"name\": \"textformat\",\n",
    "     \"samples\": ['textformat', \n",
    "                 'show the textformat', \n",
    "                 'I want textformat', \n",
    "                 'text format', \n",
    "                 'show the text format',\n",
    "                ' I want text format']\n",
    "    })\n",
    "\n",
    "data_es['interactionModel']['languageModel']['intent'].append(\n",
    "    {\"name\": \"textformat\",\n",
    "     \"samples\": ['formato de texto']\n",
    "    })"
   ]
  },
  {
   "cell_type": "markdown",
   "metadata": {},
   "source": [
    "### Thanks Intent"
   ]
  },
  {
   "cell_type": "code",
   "execution_count": 48,
   "metadata": {},
   "outputs": [],
   "source": [
    "data_en['interactionModel']['languageModel']['intent'].append(\n",
    "    {\"name\": \"thanks\",\n",
    "     \"samples\": ['thanks', \n",
    "                 'thank you', \n",
    "                 'thank you very much', \n",
    "                 'thanks a lot', \n",
    "                 'thanks so much', \n",
    "                 'Thanks'],\n",
    "    })\n",
    "\n",
    "data_es['interactionModel']['languageModel']['intent'].append(\n",
    "    {\"name\": \"thanks\",\n",
    "     \"samples\": ['gracias', \n",
    "                 'muchas gracias', \n",
    "                 'obrigado', \n",
    "                 'te agradezco'],\n",
    "    })"
   ]
  },
  {
   "cell_type": "markdown",
   "metadata": {},
   "source": [
    "### Timezone Intent"
   ]
  },
  {
   "cell_type": "code",
   "execution_count": 49,
   "metadata": {},
   "outputs": [],
   "source": [
    "data_en['interactionModel']['languageModel']['intent'].append(\n",
    "    {\"name\": \"timezone\",\n",
    "     \"samples\": ['time zone', \n",
    "                 'what is the timezone', \n",
    "                 'show the timezone',\n",
    "                 'I want the timezone', \n",
    "                 'time zone', \n",
    "                 'what is the time zone', \n",
    "                'show the time zone', \n",
    "                 'I want the time zone']\n",
    "    })\n",
    "\n",
    "data_es['interactionModel']['languageModel']['intent'].append(\n",
    "    {\"name\": \"timezone\",\n",
    "     \"samples\": ['zona horaria',\n",
    "                'cual es la zona horaria']\n",
    "    })"
   ]
  },
  {
   "cell_type": "markdown",
   "metadata": {},
   "source": [
    "## Report Intents"
   ]
  },
  {
   "cell_type": "markdown",
   "metadata": {},
   "source": [
    "### Daily Intent"
   ]
  },
  {
   "cell_type": "code",
   "execution_count": 50,
   "metadata": {},
   "outputs": [],
   "source": [
    "data_en['interactionModel']['languageModel']['intent'].append(\n",
    "    {\"name\": \"daily\",\n",
    "     \"samples\": ['daily', \n",
    "                 'start daily', \n",
    "                 'show me the report', \n",
    "                 'I want the daily report']\n",
    "    })\n",
    "\n",
    "data_es['interactionModel']['languageModel']['intent'].append(\n",
    "    {\"name\": \"daily\",\n",
    "     \"samples\": ['muéstrame el reporte',\n",
    "                'realizar seguimiento diario', \n",
    "                 'seguimiento diario']\n",
    "    })"
   ]
  },
  {
   "cell_type": "markdown",
   "metadata": {},
   "source": [
    "### ResetDaily Intent"
   ]
  },
  {
   "cell_type": "code",
   "execution_count": 51,
   "metadata": {},
   "outputs": [],
   "source": [
    "data_en['interactionModel']['languageModel']['intent'].append(\n",
    "    {\"name\": \"resetdaily\",\n",
    "     \"samples\": ['reset', \n",
    "                 'reset daily', \n",
    "                 'reset daily status']\n",
    "    })\n",
    "\n",
    "\n",
    "data_es['interactionModel']['languageModel']['intent'].append(\n",
    "    {\"name\": \"resetdaily\",\n",
    "     \"samples\": ['reiniciar seguimiento', \n",
    "                'reiniciar', \n",
    "                 'reiniciar estado del seguimiento']\n",
    "    })"
   ]
  },
  {
   "cell_type": "markdown",
   "metadata": {},
   "source": [
    "### DailyStatus Intent"
   ]
  },
  {
   "cell_type": "code",
   "execution_count": 52,
   "metadata": {},
   "outputs": [],
   "source": [
    "data_en['interactionModel']['languageModel']['intent'].append(\n",
    "    {\"name\": \"dailystatus\",\n",
    "     \"samples\": ['daily status', \n",
    "                 'what is the daily status',\n",
    "                 'I want the daily status']\n",
    "    })\n",
    "\n",
    "data_es['interactionModel']['languageModel']['intent'].append(\n",
    "    {\"name\": \"dailystatus\",\n",
    "     \"samples\": ['estado del seguimiento', \n",
    "                'muéstrame el estado del seguimiento']\n",
    "    })"
   ]
  },
  {
   "cell_type": "markdown",
   "metadata": {},
   "source": [
    "### Snooze Intent"
   ]
  },
  {
   "cell_type": "code",
   "execution_count": 53,
   "metadata": {},
   "outputs": [],
   "source": [
    "data_en['interactionModel']['languageModel']['intent'].append(\n",
    "    {\"name\": \"snooze\",\n",
    "     \"samples\": ['snooze', \n",
    "                 'snooze daily', \n",
    "                 'increase snooze', \n",
    "                 'snooze_daily']\n",
    "    })\n",
    "\n",
    "data_es['interactionModel']['languageModel']['intent'].append(\n",
    "    {\"name\": \"snooze\",\n",
    "     \"samples\": ['aplazar', \n",
    "                 'postponer', \n",
    "                 'dejarlo para más tarde', \n",
    "                 'más tarde',\n",
    "                'déjalo para después']\n",
    "    })"
   ]
  },
  {
   "cell_type": "markdown",
   "metadata": {},
   "source": [
    "### SkipDaily Intent"
   ]
  },
  {
   "cell_type": "code",
   "execution_count": 54,
   "metadata": {},
   "outputs": [],
   "source": [
    "data_en['interactionModel']['languageModel']['intent'].append(\n",
    "    {\"name\": \"skipdaily\",\n",
    "     \"samples\": ['skip', \n",
    "                 'skip daily', \n",
    "                 'skip daily', \n",
    "                 'skip the daily report']\n",
    "    })\n",
    "\n",
    "data_es['interactionModel']['languageModel']['intent'].append(\n",
    "    {\"name\": \"skipdaily\",\n",
    "     \"samples\": ['omitir el reporte', \n",
    "                 'omitir', \n",
    "                 'saltarse el reporte']\n",
    "    })"
   ]
  },
  {
   "cell_type": "markdown",
   "metadata": {},
   "source": [
    "### Report  Intent"
   ]
  },
  {
   "cell_type": "code",
   "execution_count": 55,
   "metadata": {},
   "outputs": [],
   "source": [
    "data_en['interactionModel']['languageModel']['intent'].append(\n",
    "    {\"name\": \"report\",\n",
    "     \"samples\": ['report', \n",
    "                 'reports']\n",
    "    })\n",
    "\n",
    "data_es['interactionModel']['languageModel']['intent'].append(\n",
    "    {\"name\": \"report\",\n",
    "     \"samples\": ['reporte']\n",
    "    })"
   ]
  },
  {
   "cell_type": "markdown",
   "metadata": {},
   "source": [
    "### Kudos Intent"
   ]
  },
  {
   "cell_type": "code",
   "execution_count": 56,
   "metadata": {},
   "outputs": [],
   "source": [
    "data_en['interactionModel']['languageModel']['intent'].append(\n",
    "    {\"name\": \"kudos\",\n",
    "     \"samples\": ['kudos', \n",
    "                 'kudos back', \n",
    "                 'kudos plus']\n",
    "    })\n",
    "\n",
    "\n",
    "data_es['interactionModel']['languageModel']['intent'].append(\n",
    "    {\"name\": \"kudos\",\n",
    "     \"samples\": ['kudos']\n",
    "    })"
   ]
  },
  {
   "cell_type": "markdown",
   "metadata": {},
   "source": [
    "# Appointment Intent"
   ]
  },
  {
   "cell_type": "code",
   "execution_count": 57,
   "metadata": {},
   "outputs": [],
   "source": [
    "data_en['interactionModel']['languageModel']['intent'].append(\n",
    "    {\"name\": \"meeting\",\n",
    "     \"samples\": ['meeting']\n",
    "    })\n",
    "\n",
    "\n",
    "data_es['interactionModel']['languageModel']['intent'].append(\n",
    "    {\"name\": \"meeting\",\n",
    "     \"samples\": ['cita',\n",
    "                'hora']\n",
    "    })"
   ]
  },
  {
   "cell_type": "markdown",
   "metadata": {},
   "source": [
    "# Show Appointment Intent"
   ]
  },
  {
   "cell_type": "code",
   "execution_count": 58,
   "metadata": {},
   "outputs": [],
   "source": [
    "data_en['interactionModel']['languageModel']['intent'].append(\n",
    "    {\"name\": \"meeting status\",\n",
    "     \"samples\": ['show meetings', 'meeting status', 'appointments status', 'meetings status', 'show appointments']\n",
    "    })\n",
    "\n",
    "\n",
    "data_es['interactionModel']['languageModel']['intent'].append(\n",
    "    {\"name\": \"meeting status\",\n",
    "     \"samples\": ['show meetings', 'meeting status']\n",
    "    })"
   ]
  },
  {
   "cell_type": "markdown",
   "metadata": {},
   "source": [
    "# Exporting the Files"
   ]
  },
  {
   "cell_type": "code",
   "execution_count": 59,
   "metadata": {},
   "outputs": [],
   "source": [
    "with open('data_en.json', 'w') as outfile:\n",
    "    json.dump(data_en, outfile)"
   ]
  },
  {
   "cell_type": "code",
   "execution_count": 60,
   "metadata": {},
   "outputs": [],
   "source": [
    "with open('data_es.json', 'w') as outfile:\n",
    "    json.dump(data_es, outfile)"
   ]
  },
  {
   "cell_type": "code",
   "execution_count": 31,
   "metadata": {},
   "outputs": [
    {
     "name": "stdout",
     "output_type": "stream",
     "text": [
      "English Data:  {'interactionModel': {'languageModel': {'intent': [{'name': 'hello', 'samples': ['Hi', 'Hello', 'hey']}, {'name': 'feedback', 'samples': ['feedback', 'I want some feedback', 'Give me feedback', 'I want feedback']}, {'name': 'cancel', 'samples': ['cancel', 'cancel it']}, {'name': 'chicken', 'samples': ['arthur', 'chicken', 'I want arthur', 'I want the chicken', 'Bring the chicken', 'about Arthur']}, {'name': 'dashboard', 'samples': ['dashboard', 'Show me the dashboard', 'Bring the dashboard', 'I want the dashboard', 'about dashboard']}, {'name': 'datetime', 'samples': ['date time', 'time', 'tell me the time', 'show the time', 'show the datetime']}, {'name': 'disable', 'samples': ['disable', 'disable it']}, {'name': 'enable', 'samples': ['enable', 'enable it', 'enable the message']}, {'name': 'help', 'samples': ['help', 'show help', 'give help', 'I want help']}, {'name': 'extras', 'samples': ['extras', 'show extras', 'I want extras']}, {'name': 'news', 'samples': ['news', 'show the news', 'I want the news']}, {'name': 'settings', 'samples': ['settings', 'show settings', 'give me settings', 'I want settings']}, {'name': 'textformat', 'samples': ['textformat', 'show the textformat', 'I want textformat', 'text format', 'show the text format', ' I want text format']}, {'name': 'thanks', 'samples': ['thanks', 'thank you', 'thank you very much', 'thanks a lot', 'thanks so much', 'Thanks']}, {'name': 'timezone', 'samples': ['time zone', 'what is the timezone', 'show the timezone', 'I want the timezone', 'time zone', 'what is the time zone', 'show the time zone', 'I want the time zone']}, {'name': 'daily', 'samples': ['daily', 'start daily', 'show me the report', 'I want the daily report']}, {'name': 'resetdaily', 'samples': ['reset', 'reset daily', 'reset daily status']}, {'name': 'dailystatus', 'samples': ['daily status', 'what is the daily status', 'I want the daily status']}, {'name': 'snooze', 'samples': ['snooze', 'snooze daily', 'increase snooze', 'snooze_daily']}, {'name': 'skipdaily', 'samples': ['skip', 'skip daily', 'skip daily', 'skip the daily report']}, {'name': 'report', 'samples': ['report', 'reports']}, {'name': 'kudos', 'samples': ['kudos', 'kudos back', 'kudos plus']}, {'name': 'meeting', 'samples': ['meeting']}, {'name': 'meeting status', 'samples': ['show meetings', 'meeting status', 'appointments status', 'meetings status', 'show appointments']}]}}}\n"
     ]
    }
   ],
   "source": [
    "print('English Data: ',data_en)"
   ]
  },
  {
   "cell_type": "code",
   "execution_count": 120,
   "metadata": {},
   "outputs": [
    {
     "name": "stdout",
     "output_type": "stream",
     "text": [
      "Spanish Data:  {'interactionModel': {'languageModel': {'intent': [{'name': 'hello', 'samples': ['hola', 'ey', 'oi', 'ola', 'saludos']}, {'name': 'feedback', 'samples': ['realimentación', 'quiero darte retroalimentación', 'retroalimentación', 'quiero dejarte un mensaje']}, {'name': 'cancel', 'samples': ['cancelar']}, {'name': 'chicken', 'samples': ['galinha', 'pollo']}, {'name': 'dashboard', 'samples': ['tablero', 'tablero de administración', 'panel de administración', 'llévame al panel de administración']}, {'name': 'datetime', 'samples': ['hora', 'dime la hora']}, {'name': 'disable', 'samples': ['deshabilitar']}, {'name': 'enable', 'samples': ['habilitar']}, {'name': 'help', 'samples': ['ayuda', 'muéstrame la ayuda']}, {'name': 'extras', 'samples': ['extras']}, {'name': 'news', 'samples': ['noticias']}, {'name': 'settings', 'samples': ['configuraciones', 'muéstrame las configuraciones', 'configuración']}, {'name': 'textformat', 'samples': ['formato de texto']}, {'name': 'thanks', 'samples': ['gracias', 'muchas gracias', 'obrigado', 'te agradezco']}, {'name': 'timezone', 'samples': ['zona horaria', 'cual es la zona horaria']}, {'name': 'daily', 'samples': ['muéstrame el reporte', 'realizar seguimiento diario', 'seguimiento diario']}, {'name': 'resetdaily', 'samples': ['reiniciar seguimiento', 'reiniciar', 'reiniciar estado del seguimiento']}, {'name': 'dailystatus', 'samples': ['estado del seguimiento', 'muéstrame el estado del seguimiento']}, {'name': 'snooze', 'samples': ['aplazar', 'postponer', 'dejarlo para más tarde', 'más tarde', 'déjalo para después']}, {'name': 'skipdaily', 'samples': ['omitir el reporte', 'omitir', 'saltarse el reporte']}, {'name': 'report', 'samples': ['reporte']}, {'name': 'kudos', 'samples': ['kudos']}, {'name': 'meeting', 'samples': ['cita', 'hora']}]}}}\n"
     ]
    }
   ],
   "source": [
    "print('Spanish Data: ',data_es)"
   ]
  },
  {
   "cell_type": "code",
   "execution_count": null,
   "metadata": {},
   "outputs": [],
   "source": []
  },
  {
   "cell_type": "code",
   "execution_count": null,
   "metadata": {},
   "outputs": [],
   "source": []
  },
  {
   "cell_type": "code",
   "execution_count": null,
   "metadata": {},
   "outputs": [],
   "source": []
  }
 ],
 "metadata": {
  "kernelspec": {
   "display_name": "Python 3",
   "language": "python",
   "name": "python3"
  },
  "language_info": {
   "codemirror_mode": {
    "name": "ipython",
    "version": 3
   },
   "file_extension": ".py",
   "mimetype": "text/x-python",
   "name": "python",
   "nbconvert_exporter": "python",
   "pygments_lexer": "ipython3",
   "version": "3.7.9"
  }
 },
 "nbformat": 4,
 "nbformat_minor": 4
}
