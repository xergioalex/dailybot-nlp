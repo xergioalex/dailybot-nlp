{
 "cells": [
  {
   "cell_type": "markdown",
   "metadata": {},
   "source": [
    "# User Classes and Objects"
   ]
  },
  {
   "cell_type": "markdown",
   "metadata": {},
   "source": [
    "For the evaluating the chabot's performance with user data, I have created classes and objects that will imitate user data. Naturally, these classes are simplified and are only used to test the model. "
   ]
  },
  {
   "cell_type": "code",
   "execution_count": 27,
   "metadata": {},
   "outputs": [],
   "source": [
    "\n",
    "class User:\n",
    "    def __init__(self, first_name, last_name, language):\n",
    "        self.first_name = first_name\n",
    "        self.last_name = last_name\n",
    "        self.language = language\n",
    "        \n",
    "    \n",
    "    def introduce_self(self):\n",
    "        print('My name is {} {}'.format(self.first_name, self.last_name))\n",
    "        \n",
    "    def show_language(self):\n",
    "        print('My language is ',self.language)\n",
    "\n",
    "        \n",
    "    def set_to_Spanish(self):\n",
    "        self.language = \"Spanish\"\n",
    "        \n",
    "    def set_to_English(self):\n",
    "        self.language = \"English\""
   ]
  },
  {
   "cell_type": "code",
   "execution_count": 28,
   "metadata": {},
   "outputs": [],
   "source": [
    "class DailyReport:\n",
    "    def __init__(self, is_completed):\n",
    "        self.is_completed = is_completed\n",
    "        \n",
    "    def skip_daily(self):\n",
    "        self.is_completed = True\n",
    "    \n",
    "    def cancel(self):\n",
    "        self.is_completed = False\n",
    "        \n",
    "    def show_status(self):\n",
    "        if self.is_completed == True:\n",
    "            print('Daily Report Completed')\n",
    "        else:\n",
    "            print('Daily Report Not Completed')"
   ]
  },
  {
   "cell_type": "code",
   "execution_count": 29,
   "metadata": {},
   "outputs": [],
   "source": [
    "class Settings:\n",
    "    def __init__(self, is_enabled, given_feedback):\n",
    "        self.is_enabled = is_enabled\n",
    "        self.given_feedback = given_feedback\n",
    "        \n",
    "    def cancel(self):\n",
    "        self.given_feedback = False\n",
    "        \n",
    "    def disable(self):\n",
    "        self.is_enabled = False\n",
    "        \n",
    "    def enable(self):\n",
    "        self.is_enabled = True\n",
    "        \n",
    "    def show_enabled_status(self):\n",
    "        if self.is_enabled:\n",
    "            print('Is enabled')\n",
    "        else:\n",
    "            print('Not enabled')\n",
    "        \n",
    "        "
   ]
  },
  {
   "cell_type": "code",
   "execution_count": null,
   "metadata": {},
   "outputs": [],
   "source": []
  },
  {
   "cell_type": "code",
   "execution_count": null,
   "metadata": {},
   "outputs": [],
   "source": []
  },
  {
   "cell_type": "code",
   "execution_count": 30,
   "metadata": {},
   "outputs": [],
   "source": [
    "class Datetime:\n",
    "    def __init__(self, date, time):\n",
    "        date = self.date\n",
    "        time = self.time\n",
    "        "
   ]
  },
  {
   "cell_type": "code",
   "execution_count": 1,
   "metadata": {},
   "outputs": [],
   "source": [
    "class Appointment:\n",
    "    def __init__(self, member, time):\n",
    "        self.member = member # a list of members\n",
    "        self.time = time # datetime variable\n",
    "        \n",
    "    def has_meeting(self):\n",
    "        if self.time is None:\n",
    "            return False\n",
    "        return True\n",
    "    \n",
    "    # show appointments\n",
    "    def show_appointments(self):\n",
    "        print('Appointments: \\n')\n",
    "        print('At {} with {}'.format(self.time, self.member))\n",
    "    \n",
    "    # add appointment\n",
    "    \n",
    "        \n",
    "        "
   ]
  },
  {
   "cell_type": "code",
   "execution_count": null,
   "metadata": {},
   "outputs": [],
   "source": []
  }
 ],
 "metadata": {
  "kernelspec": {
   "display_name": "Python 3",
   "language": "python",
   "name": "python3"
  },
  "language_info": {
   "codemirror_mode": {
    "name": "ipython",
    "version": 3
   },
   "file_extension": ".py",
   "mimetype": "text/x-python",
   "name": "python",
   "nbconvert_exporter": "python",
   "pygments_lexer": "ipython3",
   "version": "3.7.9"
  }
 },
 "nbformat": 4,
 "nbformat_minor": 4
}
